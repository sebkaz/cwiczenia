{
 "cells": [
  {
   "cell_type": "markdown",
   "metadata": {},
   "source": [
    "## Zadanie\n",
    "\n",
    "Utwórz obwód kwantowy i dodaj parametryzowaną bramkę $R_x$ z kątem ustawionym jako `pi/4`\n",
    "\n",
    "Oblicz wartość oczekiwaną operatora $<\\sigma_z>$ wykorzystując `qml.expval(qml.PauliZ(0))`\n",
    "\n",
    "\n",
    "Bramka (i operator) Z, w bazie obliczeniowej dany jest macierzą:\n",
    "$$\n",
    " \\textbf{Z} = \\begin{bmatrix} 1 \\,\\,\\,\\,\\,\\,\\,\\, 0 \\\\ 0 \\,\\, -1 \\end{bmatrix} \n",
    " $$\n",
    "\n",
    "Operator ten mierzy różnicę pomiędzy prawdopodobieństwem, że kubit jest w stanie $\\ket{0}$ a prawdopodobieństwem, że jest w stanie $\\ket{1}$\n",
    "\n",
    "W ogólności wartość oczekiwana (wartość średnia wyniku pomiaru w bazie operatora Z) dana jest wzorem: \n",
    "$$\n",
    " \\textbf{<Z>} = \\bra{\\psi} \\textbf{Z} \\ket{\\psi} \n",
    "$$\n",
    "\n",
    "Niech \n",
    "$$\n",
    "\\ket{\\psi} = \\alpha\\ket{0} + \\beta\\ket{1} \n",
    "$$\n",
    "wtedy \n",
    "$$\n",
    "\\bra{\\psi} = \\alpha^*\\bra{0} + \\beta^*\\bra{1} \n",
    "$$\n",
    "\n",
    "Możemy obliczyć: \n",
    "$$\n",
    "\\bra{\\psi} \\textbf{Z} \\ket{\\psi}  = (\\alpha^*\\bra{0} + \\beta^*\\bra{1} ) \\,\\,\\, Z \\,\\,\\,(\\alpha\\ket{0} + \\beta\\ket{1}) = |\\alpha|^2 - |\\beta|^2\n",
    "$$\n",
    "Czyli dla kubitu w stanie $\\ket{0}$ \n",
    "$$\n",
    " \\textbf{<Z>} = 1  \n",
    "$$\n",
    "Dla kubitu w stanie $\\ket{1}$\n",
    "$$\n",
    " \\textbf{<Z>} = -1  \n",
    "$$\n",
    "Dla kubitu w superpozycji $\\ket{0} +\\ket{1}$\n",
    "$$\n",
    " \\textbf{<Z>} = 0  \n",
    "$$"
   ]
  },
  {
   "cell_type": "markdown",
   "metadata": {},
   "source": [
    "## Zadanie -  Obwód kwantowy z optymalizacją\n",
    "\n",
    "- Napisz nowy obwód kwantowy, który zawierać będzie tylko bramkę $R_X$ dla dowolnego parametru $\\theta$\n",
    "- oblicz i uzasadnij, że wartość oczekiwana dla stanu $\\ket{\\psi} = R_X \\, \\ket{0}$ \n",
    "$$<Z> = cos^2(\\theta /2)- sin^2(\\theta /2) = cos(\\theta)$$\n",
    "\n",
    "\n",
    "Załóżmy, że nasz problem obliczeniowy sprowadza się do wygenerowania wartości oczekiwanej o wartości 0.5. \n",
    "\n",
    "$$\n",
    " \\textbf{<Z>} = \\bra{\\psi} \\textbf{Z} \\ket{\\psi} = 0.5\n",
    " $$\n",
    "\n",
    " \n",
    "\n",
    "Napisz program znajdujący rozwiązanie - szukający wagę $\\theta$ dla naszego obwodu\n",
    "\n",
    "- Zdefiniuj funkcję kosztu, którą bedziemy minimalizować $(Y - y)^2$\n",
    "- zainicjuj rozwiązanie $theta=0.01$ i przypisz do tablicy array `np.array(0.01, requires_grad=True)`\n",
    "- Jako opt wybierz spadek po gradiencie : opt = qml.GradientDescentOptimizer(stepsize=0.1)\n",
    "- uzyj poniższego kodu do wygenerowania pętli obiczeń \n",
    "\n",
    "```python\n",
    "\n",
    "epochs = 100\n",
    "\n",
    "for epoch in range(epochs):\n",
    "    theta = opt.step(cost_fn, theta)\n",
    "\n",
    "    if epoch % 10 == 0:\n",
    "        print(f\"epoka: {epoch}, theta: {theta}, koszt: {cost_fn(theta)}\")\n",
    "```"
   ]
  },
  {
   "cell_type": "markdown",
   "metadata": {},
   "source": [
    "## Bramki dwukubitowe\n",
    "\n",
    "$$\n",
    "\\renewcommand{\\bra}[1]{\\left \\langle #1 \\right \\rvert}\n",
    "\\renewcommand{\\ket}[1]{\\left \\rvert #1 \\right \\rangle}\n",
    "\\renewcommand{\\braket}[2]{\\left \\langle #1 \\middle \\rvert #2 \\right \\rangle}\n",
    "$$\n",
    "\n",
    "\n",
    "[O bramkach dwukubitowych wspominaliśmy juz tutaj](https://sebkaz-teaching.github.io/qml2024/lectures/wyklad4.html#bramki-dwukubitowe)\n",
    "\n",
    "Jedną z bramek realizującą zadania  na dwóch kubitach jest bramka CNOT, która na bazie bitu kontrolnego decyduje czy zastosować operację X do drugiego kubitu.\n",
    "\n",
    "$$\n",
    "\\text{CNOT} = \\begin{bmatrix} 1 \\,\\, \\,\\,\\, 0 \\,\\,\\,\\,\\, 0 \\,\\,\\,\\,\\, 0 \\\\ \n",
    "0\\,\\, \\,\\,\\, 1 \\,\\,\\,\\,\\, 0 \\,\\,\\,\\,\\, 0 \\\\\n",
    "0\\,\\,\\,\\,\\, 0\\,\\,\\,\\,\\,  0 \\,\\,\\,\\,\\, 1 \\\\ 0\\,\\,\\,\\,\\, 0\\,\\,\\,\\,\\, 1\\,\\,\\,\\,\\, 0 \\end{bmatrix}\n",
    "$$\n",
    "\n",
    "$$ \\text{CNOT} \\ket{00} = \\ket{00} $$\n",
    "\n",
    "$$ \\text{CNOT} \\ket{10} = \\ket{11} $$"
   ]
  },
  {
   "cell_type": "code",
   "execution_count": null,
   "metadata": {},
   "outputs": [],
   "source": [
    "import pennylane as qml\n",
    "from pennylane import numpy as np \n",
    "\n",
    "dev = qml.device('default.qubit', wires=2, shots=100)\n",
    "\n",
    "@qml.qnode(dev)\n",
    "def qc():\n",
    "    qml.Hadamard(wires=0)\n",
    "    qml.CNOT(wires=[0,1])\n",
    "    #return qml.state()\n",
    "    return qml.counts()\n",
    "\n",
    "qc()"
   ]
  },
  {
   "cell_type": "code",
   "execution_count": null,
   "metadata": {},
   "outputs": [],
   "source": [
    "import matplotlib.pyplot as plt\n",
    "qml.drawer.use_style(\"sketch\")\n",
    "fig, ax = qml.draw_mpl(qc)()\n",
    "plt.show()"
   ]
  },
  {
   "cell_type": "code",
   "execution_count": null,
   "metadata": {},
   "outputs": [],
   "source": [
    "import pennylane as qml\n",
    "from pennylane import numpy as np \n",
    "\n",
    "dev = qml.device('default.qubit', wires=2, shots=100)\n",
    "\n",
    "@qml.qnode(dev)\n",
    "def qc():\n",
    "    qml.Hadamard(wires=0)\n",
    "    qml.CNOT(wires=[0,1])\n",
    "    qml.X(wires=1)\n",
    "    #return qml.state()\n",
    "    return qml.counts()\n",
    "\n",
    "qc()"
   ]
  },
  {
   "cell_type": "code",
   "execution_count": null,
   "metadata": {},
   "outputs": [],
   "source": [
    "fig, ax = qml.draw_mpl(qc)()\n",
    "plt.show()"
   ]
  },
  {
   "cell_type": "code",
   "execution_count": null,
   "metadata": {},
   "outputs": [],
   "source": [
    "import pennylane as qml\n",
    "from pennylane import numpy as np \n",
    "\n",
    "dev = qml.device('default.qubit', wires=2, shots=100)\n",
    "\n",
    "@qml.qnode(dev)\n",
    "def qc():\n",
    "    qml.Hadamard(wires=0)\n",
    "    qml.CNOT(wires=[0,1])\n",
    "    qml.Z(wires=1)\n",
    "    #return qml.state()\n",
    "    return qml.counts()\n",
    "\n",
    "qc()"
   ]
  },
  {
   "cell_type": "code",
   "execution_count": null,
   "metadata": {},
   "outputs": [],
   "source": [
    "fig, ax = qml.draw_mpl(qc)()\n",
    "plt.show()"
   ]
  },
  {
   "cell_type": "code",
   "execution_count": null,
   "metadata": {},
   "outputs": [],
   "source": [
    "import pennylane as qml\n",
    "from pennylane import numpy as np \n",
    "\n",
    "dev = qml.device('default.qubit', wires=2, shots=100)\n",
    "\n",
    "@qml.qnode(dev)\n",
    "def qc():\n",
    "    qml.Hadamard(wires=0)\n",
    "    qml.CNOT(wires=[0,1])\n",
    "    qml.X(wires=1)\n",
    "    qml.Z(wires=1)\n",
    "    #return qml.state()\n",
    "    return qml.counts()\n",
    "\n",
    "qc()"
   ]
  },
  {
   "cell_type": "code",
   "execution_count": null,
   "metadata": {},
   "outputs": [],
   "source": [
    "fig, ax = qml.draw_mpl(qc)()\n",
    "plt.show()"
   ]
  },
  {
   "cell_type": "markdown",
   "metadata": {},
   "source": [
    "## Zadanie \n",
    "\n",
    "utwórz obwód dwu kubitowy:\n",
    "- bramka CNOT 0,1\n",
    "- bramka CNOT (odwrocona) 1,0\n",
    "- bramka CNOT 0,1\n",
    "\n",
    "Opisz jak działa ta kombinacja na stany: $\\ket{00}, \\ket{11}, \\ket{01},\\ket{10}$\n",
    "\n",
    "Znajdź odpowiednik tej kombinacji w bibliotece Pennylane.\n",
    "\n",
    "## Zadanie \n",
    "\n",
    "utwórz obwód dwu kubitowy:\n",
    "- bramka CNOT\n",
    "- bramki H na kazdym kubicie\n",
    "- bramka CNOT \n",
    "- bramki H na kazdym kubicie\n",
    "- bramka CNOT"
   ]
  },
  {
   "cell_type": "markdown",
   "metadata": {},
   "source": [
    "## Stany GHZ \n",
    "\n",
    "Jak realizują się stany splątane dla więcej niz dwóch kubitów\n",
    "\n",
    "Stany [Greenbergerha-Hornea-Zeilingera](https://en.wikipedia.org/wiki/Greenberger–Horne–Zeilinger_state)\n",
    "\n",
    "\n",
    "[publikacja](https://arxiv.org/abs/2106.01550)"
   ]
  },
  {
   "cell_type": "code",
   "execution_count": null,
   "metadata": {},
   "outputs": [],
   "source": [
    "dev = qml.device('default.qubit', wires=3, shots=100)\n",
    "\n",
    "@qml.qnode(dev)\n",
    "def qc():\n",
    "    qml.Hadamard(wires=0)\n",
    "    qml.CNOT(wires=[0,1])\n",
    "    qml.CNOT(wires=[1,2])\n",
    "    #return qml.state()\n",
    "    return qml.counts()\n",
    "\n",
    "qc()"
   ]
  },
  {
   "cell_type": "markdown",
   "metadata": {},
   "source": [
    "## Kopiowanie Kubitu \n",
    "\n",
    "Klasyczne komputery bardzo często wykorzystując operację kopiowania. \n",
    "\n",
    "Zobaczmy jak taka operacja wygląda dla kubitów.\n",
    "\n",
    "Rozwazmy obwod z operatorem `C`, który w działaniu na dwa kubity kopiuje wartość pierwszego kubitu na wynik drugiego. \n",
    "Drugi kubit mozna na początku ustawić w dowolnym stanie. \n",
    "\n",
    "Chcemy skopiować stan $\\ket{\\psi_0} = a\\ket{0} + b\\ket{1}$ \n",
    "\n",
    "Stan początkowy układu: $\\ket{\\psi_0} \\otimes \\ket{0}$\n",
    "\n",
    "Chcemy przekształcić na $\\ket{\\psi_0} \\otimes \\ket{\\psi_0}$ czyli \n",
    "\n",
    "$$ \n",
    "C \\left(\\ket{\\psi_0} \\otimes \\ket{0}\\right) = \\ket{\\psi_0} \\otimes \\ket{\\psi_0}\n",
    "$$\n",
    "\n",
    "Lewa strona\n",
    "\n",
    "$$ \n",
    "C \\left(\\ket{\\psi_0} \\otimes \\ket{0}\\right) = C\\left(   (a\\ket{0} + b\\ket{1} )  \\otimes \\ket{0} \\right)\n",
    "$$\n",
    "$$ \n",
    "C\\left( a\\ket{0} \\otimes \\ket{0} + b\\ket{1}\\otimes \\ket{0} \\right) = a C \\left(\\ket{0} \\otimes \\ket{0}\\right) + b C \\left( \\ket{1}\\otimes \\ket{0}\\right)\n",
    "$$\n",
    "$$ \n",
    "a \\ket{00} + b \\ket{11}\n",
    "$$\n",
    "\n",
    "Prawa strona\n",
    "$$\n",
    "\\ket{\\psi_0} \\otimes \\ket{\\psi_0}  = a^2 \\ket{00} + ab\\ket{01} + ab\\ket{10} + b^2\\ket{11}\n",
    "$$ "
   ]
  },
  {
   "cell_type": "markdown",
   "metadata": {},
   "source": [
    "## Zadanie \n",
    "\n",
    "### Napisz operator 1+1 na układzie 4 kubitów \n",
    "\n",
    "$$\n",
    "0+0 = 00\n",
    "$$\n",
    "$$\n",
    "0+1 = 01\n",
    "$$\n",
    "$$\n",
    "1+0 = 01\n",
    "$$\n",
    "$$\n",
    "1+1 = 10\n",
    "$$\n",
    "\n",
    "zauwaz, ze mamy dwa typy rozwiązań: \n",
    "\n",
    "- dwa bity wejsciowe są takie same  (00, 11) i dają na prawym bicie odpowiedzi 0. \n",
    "- dwa bity wejsciowe są rózne (10,01) i dają na prawym bicie odpowiedzi 1. \n",
    "\n",
    "\n",
    "Aby napisać prawidłowe rozwiązanie musimy stworzyć bramki, które będą rozpoznawać czy dwa kubity są takie same czy tez rózne. Dla przypomnienia - klasycznie rolę taką pełni bramka `XOR`.\n",
    "\n",
    "| Input 1   | Input 2 | XOR |\n",
    "| -------- | ------- |--------|\n",
    "| 0  | 0    |  0|\n",
    "| 0 | 1    | 1  |\n",
    "| 1   | 1    | 1 |\n",
    "| 1   |  0 | 0 |\n",
    "\n",
    "Podobnie działa bramka CNOT "
   ]
  },
  {
   "cell_type": "code",
   "execution_count": null,
   "metadata": {},
   "outputs": [],
   "source": [
    "dev = qml.device('default.qubit', wires=4, shots=1)\n",
    "\n",
    "@qml.qnode(dev)\n",
    "def qc(input='00'):\n",
    "    if input[0]=='1':\n",
    "        qml.X(wires=0)\n",
    "    if input[1]=='1':\n",
    "        qml.X(wires=1)\n",
    "    qml.CNOT(wires=[0,3])\n",
    "    qml.CNOT(wires=[1,3])\n",
    "    #return qml.state()\n",
    "    return qml.counts(wires=[2,3])\n",
    "\n",
    "qc()"
   ]
  },
  {
   "cell_type": "code",
   "execution_count": null,
   "metadata": {},
   "outputs": [],
   "source": [
    "fig, ax = qml.draw_mpl(qc)()\n",
    "plt.show()"
   ]
  },
  {
   "cell_type": "code",
   "execution_count": null,
   "metadata": {},
   "outputs": [],
   "source": [
    "for input in ['00','01','10','11']:\n",
    "    print(f\"wartosci poczatkowe: {input} : wynik {qc(input)}\")"
   ]
  },
  {
   "cell_type": "markdown",
   "metadata": {},
   "source": [
    "Zastosowanie dwóch CNOT do inputów rozwiązuje nam problem prawego bitu odpowiedzi. \n",
    "\n",
    "Co z pierszym bitem odpowiedzi otrzymywanym po pomiarzze `q3` ? \n",
    "\n",
    "- jego wartość dla pierwszych trzech równań zawsze wynosi 0. \n",
    "\n",
    "Jednak dla równania 1+1 powinniśmy otrzymać 1. \n",
    "\n",
    "Do rozwiązania tego problemu mozna wykorzystać bramkę operującą na 3 kubitach. \n",
    "Bramka ta to bramka `Toffoli`. "
   ]
  },
  {
   "cell_type": "code",
   "execution_count": null,
   "metadata": {},
   "outputs": [],
   "source": [
    "dev = qml.device('default.qubit', wires=4, shots=1)\n",
    "\n",
    "@qml.qnode(dev)\n",
    "def qc(input='00'):\n",
    "    if input[0]=='1':\n",
    "        qml.X(wires=0)\n",
    "    if input[1]=='1':\n",
    "        qml.X(wires=1)\n",
    "    qml.CNOT(wires=[0,3])\n",
    "    qml.CNOT(wires=[1,3])\n",
    "    qml.Toffoli(wires=[0,1,2])\n",
    "    #return qml.state()\n",
    "    return qml.counts(wires=[2,3])"
   ]
  },
  {
   "cell_type": "code",
   "execution_count": null,
   "metadata": {},
   "outputs": [],
   "source": [
    "for input in ['00','01','10','11']:\n",
    "    print(f\"wartosci poczatkowe: {input} : wynik {qc(input)}\")"
   ]
  },
  {
   "cell_type": "code",
   "execution_count": null,
   "metadata": {},
   "outputs": [],
   "source": [
    "import pennylane as qml\n",
    "from pennylane import numpy as np \n",
    "\n",
    "dev = qml.device('default.qubit', wires=4, shots=1)\n",
    "\n",
    "@qml.qnode(dev)\n",
    "def qc():\n",
    "    qml.X(wires=0)\n",
    "    qml.X(wires=1)\n",
    "    qml.CNOT([0,1])\n",
    "    qml.CNOT([0,2])\n",
    "    qml.Toffoli([0,1,3])\n",
    "    return qml.counts(wires=[2,3])\n",
    "\n",
    "qc()\n",
    "\n",
    "print(\"wynik 1+1 =\",int('10', 2))"
   ]
  }
 ],
 "metadata": {
  "language_info": {
   "name": "python"
  }
 },
 "nbformat": 4,
 "nbformat_minor": 2
}
