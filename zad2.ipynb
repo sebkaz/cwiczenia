{
 "cells": [
  {
   "cell_type": "markdown",
   "metadata": {},
   "source": [
    "# Proste kwantowe obwody \n",
    "\n",
    "Na ostatnich zajęciach wyprodukowaliśmy klasyczną i kwantową sieć neuronową realizowaną w bibliotece PyTorch i Pennylane. \n",
    "\n",
    "\n",
    "Kod naszej wartwy ukrytej w której użyliśmy obwodu kwantowego realizował następujące obiekty i funkcje:\n",
    "```python\n",
    "\n",
    "import pennylane as qml\n",
    "\n",
    "n_qubits = 2\n",
    "dev = qml.device(\"default.qubit\", wires=n_qubits)\n",
    "\n",
    "@qml.qnode(dev)\n",
    "def qnode(inputs, weights):\n",
    "    qml.AngleEmbedding(inputs, wires=range(n_qubits))\n",
    "    qml.BasicEntanglerLayers(weights, wires=range(n_qubits))\n",
    "    return [qml.expval(qml.PauliZ(wires=i)) for i in range(n_qubits)]\n",
    "```\n",
    "\n",
    "Na tych zajęciach nauczymy się tworzyć proste obwody kwantowe. \n",
    "\n",
    "Zaczynamy!\n",
    "\n",
    "\n",
    "Obwody kwantowe składają się z rejestrów, które reprezentują poszczególne kubity.\n",
    "\n",
    "![kibu1](../img/kubity1.png)\n",
    "\n",
    "Domyślnie kubity inicjalizujemy w stanie 0.\n",
    "\n",
    "![kibu2](../img/kubity2.png)\n",
    "\n",
    "\n",
    "Liczbę rejestrów możesz ustalić parametrem `wires` przy definicji środowiska wykonawczego `device`. \n",
    "\n",
    "```python\n",
    "dev = qml.device(\"default.qubit\", wires=1)\n",
    "```\n",
    "\n",
    "\n",
    "Operacje wykonywane na kubitach nazywamy bramkami. \n",
    "Operacje te można wykonywać na jednym albo i wielu kubitach na raz. \n",
    "Domyślnie będziemy optymalizować algortymy aby składały się z jak najmniejszej ilości bramek działających na dużą liczbę kubitów. \n",
    "\n",
    "\n",
    "Graficznie można rozumieć realizację algorytmu jako stosowanie bramek na poszczególnych kubitach.\n",
    "\n",
    "![kibu2](../img/obwod1.png)\n",
    "\n",
    "\n",
    "\n",
    "W bibliotece PennyLane, `obwody kwantowe` reprezentowane są przez `kwantowe funkcje`, realizowane przez klasyczne funkcje w pythonie. \n",
    "\n",
    "Schemat kodu penny lane możemy zapisać jako: \n",
    "\n",
    "```python\n",
    "import pennylane as qml\n",
    "\n",
    "def my_quantum_function(params):\n",
    "\n",
    "    # Operacje na pojedynczym kubicie (bez parametrów)\n",
    "    qml.Gate1(wires=0)\n",
    "    qml.Gate2(wires=1)\n",
    "\n",
    "    # Operacje na pojedynczym kubicie z parametrem\n",
    "    qml.Gate3(params[0], wires=0)\n",
    "\n",
    "    # Two-qubit operation with no input parameter on wires 0 and 1\n",
    "    qml.TwoQubitGate1(wires=[0, 1])\n",
    "\n",
    "    # Two-qubit operation with an input parameter on wires 0 and 1\n",
    "    qml.TwoQubitGate2(params[1], wires=[0, 1])\n",
    "\n",
    "    # Return the result of a measurement\n",
    "    return qml.Measurement(wires=[0, 1])\n",
    "```\n",
    "\n",
    "Przykładowo\n",
    "\n",
    "![](../img/przyklad1.png)\n",
    "\n",
    "\n",
    "```python\n",
    "\n",
    "def my_first_circuit(theta):\n",
    "\n",
    "    qml.Hadamard(wires = 0)\n",
    "    qml.CNOT(wires = [0,1])\n",
    "    qml.RZ(theta, wires = 0)\n",
    "\n",
    "    return qml.probs(wires = [0,1])\n",
    "```\n",
    "\n",
    "![](../img/pennylane1.png)\n",
    "\n",
    "\n",
    "Matematycznie całość możemy zapisać jako: \n",
    "\n",
    "![](../img/stanpennylane.png)\n",
    "\n",
    "\n",
    "Tyle teoria ... a jak zakodować i wykorzystać ? "
   ]
  },
  {
   "cell_type": "markdown",
   "metadata": {},
   "source": [
    "## Jeden kubit\n",
    "\n",
    "Przygotujmy kod dla obwodu kwantowego realizującego jeden kubit z którym nic nie robimy. "
   ]
  },
  {
   "cell_type": "code",
   "execution_count": null,
   "metadata": {},
   "outputs": [],
   "source": [
    "import pennylane as qml\n",
    "\n",
    "dev = qml.device(\"default.qubit\", wires=1)\n",
    "\n",
    "@qml.qnode(dev)\n",
    "def qc():\n",
    "    ## tu pojawi się kod przetwarzający nasz kubit\n",
    "    ## ale teraz nic z nim nie robimy \n",
    "    return qml.state()"
   ]
  },
  {
   "cell_type": "code",
   "execution_count": null,
   "metadata": {},
   "outputs": [],
   "source": [
    "qc()"
   ]
  },
  {
   "cell_type": "markdown",
   "metadata": {},
   "source": [
    "wektor $[1,0]$ można interpretować jako stan $\\ket{0}$ czyli jako wartość bitu $0$.\n",
    "\n",
    "Natomiast wykorzystując metodę `qml.probs()` możesz zwrócić kwadraty amplitud czyli prawdopodobieństow otrzymania 0 i 1. "
   ]
  },
  {
   "cell_type": "code",
   "execution_count": null,
   "metadata": {},
   "outputs": [],
   "source": [
    "import pennylane as qml\n",
    "\n",
    "dev = qml.device(\"default.qubit\", wires=1)\n",
    "\n",
    "@qml.qnode(dev)\n",
    "def qc2():\n",
    "    return qml.probs(wires=0)"
   ]
  },
  {
   "cell_type": "code",
   "execution_count": null,
   "metadata": {},
   "outputs": [],
   "source": [
    "qc2()"
   ]
  },
  {
   "cell_type": "markdown",
   "metadata": {},
   "source": [
    "zobaczmy jak zainicjalozować stan $\\ket{1}= [0,1]^T$\n",
    "$$\n",
    "\\ket{\\psi}=\\ket{1}\n",
    "$$"
   ]
  },
  {
   "cell_type": "code",
   "execution_count": null,
   "metadata": {},
   "outputs": [],
   "source": [
    "from pennylane import numpy as np\n",
    "from pennylane.ops import StatePrep\n",
    "\n",
    "stan = np.array([0,1]) # stan do inicjalizacji\n",
    "\n",
    "@qml.qnode(dev)\n",
    "def qc():\n",
    "    StatePrep(stan, wires=0)\n",
    "    return qml.state()\n",
    "\n",
    "qc()"
   ]
  },
  {
   "cell_type": "code",
   "execution_count": null,
   "metadata": {},
   "outputs": [],
   "source": [
    "@qml.qnode(dev)\n",
    "def qc():\n",
    "    StatePrep(stan, wires=0)\n",
    "    return qml.probs()\n",
    "\n",
    "qc()"
   ]
  },
  {
   "cell_type": "markdown",
   "metadata": {},
   "source": [
    "utwórzmy pełną superpozycję stanu 0 i 1. \n",
    "$$\n",
    "\\ket{\\psi}=\\frac{1}{\\sqrt{2}} (\\ket{0} + \\ket{1} ) \n",
    "$$"
   ]
  },
  {
   "cell_type": "code",
   "execution_count": null,
   "metadata": {},
   "outputs": [],
   "source": [
    "stan = np.array([1/np.sqrt(2), 1/np.sqrt(2)])\n",
    "\n",
    "@qml.qnode(dev)\n",
    "def qc_s():\n",
    "    qml.StatePrep(stan,wires=0)\n",
    "    return qml.state()\n",
    "\n",
    "print(f\"amplitudy: {qc_s()}\")\n",
    "\n",
    "\n",
    "@qml.qnode(dev)\n",
    "def qc_p():\n",
    "    qml.StatePrep(stan,wires=0)\n",
    "    return qml.probs()\n",
    "\n",
    "print(f\"prwadopodobieństwa: {qc_p()}\")\n",
    "\n",
    "print(f\"test czy amp^2 = prawdopodobienstwo: {qc_s()**2 == qc_p()}\")"
   ]
  },
  {
   "cell_type": "markdown",
   "metadata": {},
   "source": [
    "**ZADANIE** Napisz funkcję generującą stan jednego kubitu jako funkcję kąta $\\theta$ \n",
    "```python\n",
    "def stan_kubitu(theta):\n",
    "    pass # Twoj kod \n",
    "```\n",
    "\n",
    "> $\\ket{\\psi}= [\\cos(\\frac{\\theta}{2}), \\sin(\\frac{\\theta}{2})]$\n",
    "\n",
    "Wygeneruj obwód z pojedynczym kubitem inicjalizujący stan $\\ket{0}$ , $\\ket{1}$ oraz  $\\frac{1}{\\sqrt{2}} (\\ket{0} + \\ket{1} )$"
   ]
  },
  {
   "cell_type": "markdown",
   "metadata": {},
   "source": [
    "### Stany dwukubitowe\n",
    "\n",
    "$$\n",
    "\\ket{\\psi_0}=\\ket{00}\n",
    "$$\n",
    "$$\n",
    "\\ket{\\psi_1}=\\ket{01}\n",
    "$$\n",
    "$$\n",
    "\\ket{\\psi_2}=\\ket{10}\n",
    "$$\n",
    "$$\n",
    "\\ket{\\psi_3}=\\ket{11}\n",
    "$$\n",
    "\n",
    "Który stan wygeneruje poniższy kod? "
   ]
  },
  {
   "cell_type": "code",
   "execution_count": null,
   "metadata": {},
   "outputs": [],
   "source": [
    "dev = qml.device(\"default.qubit\", wires=2)\n",
    "@qml.qnode(dev)\n",
    "def qc():\n",
    "    return qml.state()\n",
    "\n",
    "qc()"
   ]
  },
  {
   "cell_type": "markdown",
   "metadata": {},
   "source": [
    "$$\n",
    "\\ket{\\psi}=\\frac{1}{2}\\left( \\ket{00} + \\ket{01} + \\ket{10} + \\ket{11} \\right)\n",
    "$$"
   ]
  },
  {
   "cell_type": "code",
   "execution_count": null,
   "metadata": {},
   "outputs": [],
   "source": [
    "dev = qml.device(\"default.qubit\", wires=2)\n",
    "\n",
    "stan = np.array([1/2, 1/2, 1/2, 1/2])\n",
    "\n",
    "prawd = [i**2 for i in stan]\n",
    "print(f\"test: suma prawdopodobienst {np.sum(prawd)}\")\n",
    "\n",
    "@qml.qnode(dev)\n",
    "def qc():\n",
    "    StatePrep(stan, wires=[0,1])\n",
    "    return qml.state()\n",
    "\n",
    "qc()"
   ]
  },
  {
   "cell_type": "markdown",
   "metadata": {},
   "source": [
    "## Bramki jednokubitowe\n",
    "\n",
    "### Bramka X\n",
    "\n",
    "Bramka X-gate reprezentowana jest przez macierz Pauli-X : \n",
    "\n",
    "$$\n",
    "X = \\begin{pmatrix}\n",
    "0 & 1 \\\\\n",
    "1 & 0 \\\\\n",
    "\\end{pmatrix}\n",
    "$$\n",
    "\n",
    "\n",
    "Bramka X obraca kubit w kierunku osi na sferze Bloch'a o $\\pi$ radianów.\n",
    "Zmienia $|0\\rangle$ na $|1\\rangle$ oraz $|1\\rangle$ na $|0\\rangle$.\n",
    "Jest często nazywana kwantowym odpowiednikiem bramki NOT lub określana jako `bit-flip`.\n",
    "\n",
    "$$ \\sigma_x \\ket{0} = \\ket{1} \\,\\,\\, \\sigma_x\\ket{1} = \\ket{0} $$"
   ]
  },
  {
   "cell_type": "code",
   "execution_count": null,
   "metadata": {},
   "outputs": [],
   "source": [
    "dev = qml.device(\"default.qubit\", wires=1)\n",
    "@qml.qnode(dev)\n",
    "def qc():\n",
    "    qml.X(wires=0)\n",
    "    return qml.state()\n",
    "\n",
    "qc()"
   ]
  },
  {
   "cell_type": "code",
   "execution_count": null,
   "metadata": {},
   "outputs": [],
   "source": [
    "dev = qml.device(\"default.qubit\", wires=1)\n",
    "@qml.qnode(dev)\n",
    "def qc():\n",
    "    qml.PauliX(wires=0)\n",
    "    return qml.state()\n",
    "\n",
    "qc()"
   ]
  },
  {
   "cell_type": "code",
   "execution_count": null,
   "metadata": {},
   "outputs": [],
   "source": [
    "qml.draw_mpl(qc)()"
   ]
  },
  {
   "cell_type": "code",
   "execution_count": null,
   "metadata": {},
   "outputs": [],
   "source": [
    "dev = qml.device(\"default.qubit\", wires=1)\n",
    "@qml.qnode(dev)\n",
    "def qc():\n",
    "    qml.PauliX(wires=0)\n",
    "    qml.X(wires=0)\n",
    "    return qml.state()\n",
    "\n",
    "qml.draw_mpl(qc)()\n",
    "qc()"
   ]
  },
  {
   "cell_type": "markdown",
   "metadata": {},
   "source": [
    "### Bramka Hadamarda \n",
    "Bramka Hadamarda przetwarza stan $|0\\rangle$ na kombinacje liniowa (superpozycje) $\\frac{|0\\rangle + |1\\rangle}{\\sqrt{2}}$, co oznacza, że pomiar zwróci z takim samym prawdopodobieństwem stanu `1` lub `0`. \n",
    "Stan ten często oznaczany jest jako: $|+\\rangle$. \n",
    "\n",
    "$$\n",
    "H = \\frac{1}{\\sqrt{2}}\\begin{pmatrix}\n",
    "1 & 1 \\\\\n",
    "1 & -1 \\\\\n",
    "\\end{pmatrix}\n",
    "$$\n",
    "\n",
    "$$ H\\ket{0} = \\frac{\\sqrt{2}}{2} (\\ket{0}+ \\ket{1})$$\n",
    "$$ H\\ket{1} = \\frac{\\sqrt{2}}{2}(\\ket{0}- \\ket{1})$$"
   ]
  },
  {
   "cell_type": "code",
   "execution_count": null,
   "metadata": {},
   "outputs": [],
   "source": [
    "dev = qml.device(\"default.qubit\", wires=1)\n",
    "@qml.qnode(dev)\n",
    "\n",
    "\n",
    "def qc():\n",
    "    qml.Hadamard(wires=0)\n",
    "    return qml.state()\n",
    "\n",
    "qml.draw_mpl(qc)()\n",
    "qc()"
   ]
  },
  {
   "cell_type": "code",
   "execution_count": null,
   "metadata": {},
   "outputs": [],
   "source": [
    "dev = qml.device(\"default.qubit\", wires=1)\n",
    "@qml.qnode(dev)\n",
    "\n",
    "\n",
    "def qc():\n",
    "    qml.Hadamard(wires=0)\n",
    "    qml.Hadamard(wires=0)\n",
    "    return qml.state()\n",
    "\n",
    "qml.draw_mpl(qc)()\n",
    "qc()"
   ]
  },
  {
   "cell_type": "code",
   "execution_count": null,
   "metadata": {},
   "outputs": [],
   "source": [
    "dev = qml.device(\"default.qubit\", wires=2)\n",
    "@qml.qnode(dev)\n",
    "\n",
    "\n",
    "def qc():\n",
    "    qml.Hadamard(wires=0)\n",
    "    qml.Hadamard(wires=1)\n",
    "    return qml.state()\n",
    "\n",
    "qml.draw_mpl(qc)()\n",
    "qc()"
   ]
  },
  {
   "cell_type": "code",
   "execution_count": null,
   "metadata": {},
   "outputs": [],
   "source": [
    "dev = qml.device(\"default.qubit\", wires=1)\n",
    "@qml.qnode(dev)\n",
    "\n",
    "\n",
    "def qc(state):\n",
    "    if state==1:\n",
    "        qml.X(wires=0)\n",
    "    qml.Hadamard(wires=0)\n",
    "    qml.PauliX(wires=0)\n",
    "    qml.Hadamard(wires=0)\n",
    "    return qml.state()\n",
    "\n",
    "qml.draw_mpl(qc)(0)\n",
    "qc(0)"
   ]
  },
  {
   "cell_type": "code",
   "execution_count": null,
   "metadata": {},
   "outputs": [],
   "source": [
    "qc(1)"
   ]
  },
  {
   "cell_type": "markdown",
   "metadata": {},
   "source": [
    "## do czego możemy wykorzystać te proste obwody? \n",
    "\n",
    "### Losowy bit\n",
    "\n",
    "utwórz obwód kwantowy zawierający jeden qubit. Utwórz superpozycję stanu zero i jeden z wykorzystaniem odpowiedniej bramki. \n",
    "\n",
    "-[a)] wyświetl stan po pomiarze pojedynczego kubitu\n",
    "\n",
    "-[b)] wyświetl prawdopodobieństwa otrzymania stanu 0 i 1 \n",
    "\n",
    "-[c)] uruchom obwód 3 razy (do dev dodaj parametr , shots=3) i sprawdź wyniki otrzymywane przez metodę `qml.counts()` [link](https://docs.pennylane.ai/en/stable/code/api/pennylane.counts.html)\n",
    "\n",
    "-[d)] uruchom powyzszą prcedurę 100 razy \n",
    "\n",
    "Do jakiego zdarzenia losowego podobne są wyniki? \n",
    "\n",
    "\n",
    "### Losowy bajt \n",
    "\n",
    "-[a)] bajt to 8 bitów - jaki zakres wartości jesteś w stanie przechowywać w 8 kubitach ? \n",
    "\n",
    "-[b)] wygeneruj 3 proby w pełni losowego bajtu - odkoduj wyniki w systemie int \n",
    "\n",
    "-[c)] oblicz różnicę dwóch bajtów dla których pierwsze cztery bity to 0, piąty bit pierwszego bajtu to 0 a drugiego bajtu to 1 . pozostałe bity są równe 1. \n",
    "\n",
    "\n",
    "\n",
    "\n"
   ]
  },
  {
   "cell_type": "markdown",
   "metadata": {},
   "source": [
    "### Gra w obracanie monety\n",
    "\n",
    "Wykorzystując powyżej zdefiniowane bramki możemy zrealizowa następującą grę:\n",
    "\n",
    "> W grze bierze udział dwóch graczy. \n",
    "Gracze dysponują monetą, której nie widzą w trakcie gry (np. jest zamknięta w pudełku). \n",
    "Natomiast wiedzą, że początkowo moneta ułożona jest orłem do góry (w stanie $\\ket{0}$)\n",
    "> Gra polega na wykonaniu trzech ruchów na przemian. \n",
    "Każdy ruch polega na odwróceniu monety bądź pozostawieniu jej w takim stanie w jakim była. \n",
    "Gracze nie wiedzą jaki ruch wykonuje przeciwnik. \n",
    "Po ostatnim ruchu pudełko zostaje otwarte i gracze sprawdzają w jakiej pozycji jest moneta. \n",
    "Pierwszy gracz wygrywa jeśli moneta jest w pozycji orła, a drugi jeśli przeciwnie. \n",
    "\n",
    "Szansa wygranej wynosi dla każdego $50\\%$ i jak można sprawdzic nie istnieje strategia wygrywająca.\n",
    "\n",
    "\n"
   ]
  },
  {
   "cell_type": "code",
   "execution_count": null,
   "metadata": {},
   "outputs": [],
   "source": [
    "import pennylane as qml\n",
    "\n",
    "dev = qml.device(\"default.qubit\", wires=1)\n",
    "\n",
    "def obwod(strategia):\n",
    "    # print(f\"strategia {strategia}\")\n",
    "\n",
    "    @qml.qnode(dev)\n",
    "    def qc():\n",
    "        for el in strategia:\n",
    "            if el == 'X':\n",
    "                # print(\"działam bramką X\")\n",
    "                qml.PauliX(wires=0)\n",
    "        return qml.state()\n",
    "    return qc\n",
    "\n",
    "def sedzia(stan):\n",
    "    if stan.real.tolist()[0]:\n",
    "        return 1\n",
    "    else:\n",
    "        return 2"
   ]
  },
  {
   "cell_type": "code",
   "execution_count": null,
   "metadata": {},
   "outputs": [],
   "source": [
    "def klasycze_strategie():\n",
    "    wyniki = []\n",
    "    for ruch_1 in ['I','X']:\n",
    "        for ruch_2 in ['I','X']:\n",
    "            for ruch_3 in ['I','X']:\n",
    "                strategia = ruch_1 + ruch_2 + ruch_3\n",
    "                # print(\"strategia\", strategia)\n",
    "                ob = obwod(strategia)\n",
    "                #qml.draw_mpl(ob)()\n",
    "                stats = sedzia(ob())\n",
    "                wyniki.append((strategia, stats))\n",
    "    return wyniki"
   ]
  },
  {
   "cell_type": "code",
   "execution_count": null,
   "metadata": {},
   "outputs": [],
   "source": [
    "klasycze_strategie()"
   ]
  },
  {
   "cell_type": "code",
   "execution_count": null,
   "metadata": {},
   "outputs": [],
   "source": [
    "qml.draw_mpl(obwod('XIX'))()"
   ]
  },
  {
   "cell_type": "markdown",
   "metadata": {},
   "source": [
    "Pytanie zasadnicze - a co jeśli zamienimy monetę na kubit?\n",
    "\n",
    "Możliwe operacje pozostawienia kubitu w takim samym stanie - bramka I, zmiany stanu na przeciwny bramka X. Czyli pierwszy gracz ustala pierwszą bramkę, drugi drugą i ponownie pierwszy trzecią. Otwarcie pudełka to pomiar stanu kubitu. \n",
    "\n",
    "> Przeanalizuj wynik dla sekwencji I X I\n",
    "\n",
    "A co jeśli pierwszy gracz wie, że działa na kubicie? \n",
    "\n",
    "> Czy może sprawic on, że  wygra zawsze? (skoro wie, że działa na kubicie może użyc innych bramek) "
   ]
  },
  {
   "cell_type": "code",
   "execution_count": null,
   "metadata": {},
   "outputs": [],
   "source": [
    "import pennylane as qml\n",
    "\n",
    "dev = qml.device(\"default.qubit\", wires=1)\n",
    "\n",
    "def obwod(strategia):\n",
    "    # print(f\"strategia {strategia}\")\n",
    "\n",
    "    @qml.qnode(dev)\n",
    "    def qc():\n",
    "        for el in strategia:\n",
    "            if el == 'X':\n",
    "                qml.PauliX(wires=0)\n",
    "            elif el == \"H\":\n",
    "                qml.Hadamard(wires=0)\n",
    "        return qml.state()\n",
    "    return qc\n",
    "\n",
    "def sedzia(stan):\n",
    "    if stan.real.tolist()[0]:\n",
    "        return 1\n",
    "    else:\n",
    "        return 2"
   ]
  },
  {
   "cell_type": "code",
   "execution_count": null,
   "metadata": {},
   "outputs": [],
   "source": [
    "def kwantowa_strategia():\n",
    "    wyniki = []\n",
    "    for ruch_1 in ['H']:\n",
    "        for ruch_2 in ['I','X']:\n",
    "            for ruch_3 in ['H']:\n",
    "                strategia = ruch_1 + ruch_2 + ruch_3\n",
    "                ob = obwod(strategia)\n",
    "                stats = sedzia(ob())\n",
    "                wyniki.append((strategia, stats))\n",
    "    return wyniki\n",
    "        "
   ]
  },
  {
   "cell_type": "code",
   "execution_count": null,
   "metadata": {},
   "outputs": [],
   "source": [
    "kwantowa_strategia()"
   ]
  },
  {
   "cell_type": "markdown",
   "metadata": {},
   "source": [
    "# a może model ?"
   ]
  },
  {
   "cell_type": "markdown",
   "metadata": {},
   "source": [
    "# Titanic data\n",
    "\n",
    "Dane mozna pobrać po utworzeniu (darmowego) konta na portalu Kaggle. \n",
    "\n",
    "[Pobierz dane](https://www.kaggle.com/c/titanic/data):\n",
    "interesuje nas tylko plik `train.csv`.\n",
    "\n",
    "Zobaczmy jak wyglądają nasze dane:"
   ]
  },
  {
   "cell_type": "code",
   "execution_count": null,
   "metadata": {},
   "outputs": [],
   "source": [
    "import pandas as pd\n",
    "\n",
    "train = pass \n",
    "\n",
    "print(\"train ma {} wierszy i {} kolumn\".format(*train.shape))\n",
    "\n",
    "print(f\"train to obiekt typu {type(train)}\")"
   ]
  },
  {
   "cell_type": "markdown",
   "metadata": {},
   "source": [
    "Wykorzystaj metodę `info()` do sprawdzenia podstawowych informacji o danych."
   ]
  },
  {
   "cell_type": "code",
   "execution_count": null,
   "metadata": {},
   "outputs": [],
   "source": [
    "# Twój kod tutaj "
   ]
  },
  {
   "cell_type": "markdown",
   "metadata": {},
   "source": [
    "Metoda `info()` zwraca informacje o:\n",
    "- nazwach kolumn, \n",
    "- ich indeksy,\n",
    "- liczbę niepustych (`null`) elementów dla kazdej kolumny,  \n",
    "- typy danych.\n",
    "\n",
    "Informacje z metody `info()` przedstawiają tylko ogólne rzeczy, zobaczmy jak zbiór train wygląda w środku.\n",
    "\n",
    "Do przeglądu danych wykorzystaj jedną z metod `head()` lub `tail()`."
   ]
  },
  {
   "cell_type": "code",
   "execution_count": null,
   "metadata": {},
   "outputs": [],
   "source": [
    "###### Twóje kody\n",
    "\n"
   ]
  },
  {
   "cell_type": "markdown",
   "metadata": {},
   "source": [
    "Kazda kolumna reprezentuje jedną zmienną naszych danych. Identyfikatorem, bądź kluczem naszej tabeli jest `PassengerId`, która przyjmuje różną wartość dla każdego wiersza.\n",
    "\n",
    "Czy taka zmienna moze być dobra do modelowania? \n",
    "\n",
    "Zmienna `Survived` to zmienna celu naszego zadania - pasazer przeżyl (1) lub nie (0). \n",
    "\n",
    "`Pclass` to zmienna opisująca klasę pokładu zgodnie z biletem.\n",
    "\n",
    "### Czyszczenie danych\n",
    "\n",
    "Nasze dane zawierają zarówno dane numeryczne jak i kategoryczne.\n",
    "\n",
    "Niektóre kategorie reprezentowane są przez wartości liczbowe, a niektóre przez tekst.\n",
    "\n",
    "Na podstawie metody `info()` wiemy również, że nie wszystkie kolumny mają zmienne wypełnione całkowicie. \n",
    "\n",
    "Większość algorytmów ML nie radzi sobie z brakami danych.\n",
    "\n",
    " Istnieją trzy podstawowe opcje jak możemy sobie z tym poradzić:\n",
    "\n",
    "1. usunięcie wierszy w których pojawiają się jakieś braki danych.\n",
    "2. usunięcie całej kolumny gdzie występują braki danych\n",
    "3. Wypełnienie brakujących wartości (imputacja danych) zerem, wartością średnią, lub medianą.\n",
    "\n",
    "> Zaproponuj zmienne do których użyłbyś metody 1, 2, lub 3"
   ]
  },
  {
   "cell_type": "code",
   "execution_count": null,
   "metadata": {},
   "outputs": [],
   "source": [
    "### Twoje kody \n",
    "\n",
    "###"
   ]
  },
  {
   "cell_type": "markdown",
   "metadata": {},
   "source": [
    "Następnym krokiem jest oszacowanie, które zmienne mogą nam się przydać ze wzgledu na swoje wartości, a które możemy odrzucić. \n",
    "Liczbę unikalnych wartości można znaleźć wykorzystując metodę `nunique()`\n",
    "\n",
    "> Zweryfikuj i usuń kolumny, które nie będą nadawały się do analizy. Wykorzystaj metodę `drop()` "
   ]
  },
  {
   "cell_type": "code",
   "execution_count": null,
   "metadata": {},
   "outputs": [],
   "source": [
    "# Twoje kody\n",
    "\n",
    "#\n",
    "\n",
    "train.info()"
   ]
  },
  {
   "cell_type": "code",
   "execution_count": null,
   "metadata": {},
   "outputs": [],
   "source": [
    "from sklearn.preprocessing import LabelEncoder\n",
    "le = LabelEncoder()\n",
    "\n",
    "for col in ['Sex','Embarked']:\n",
    "    le.fit(train[col])\n",
    "    train[col] = le.transform(train[col])\n",
    "\n",
    "train.head()"
   ]
  },
  {
   "cell_type": "markdown",
   "metadata": {},
   "source": [
    "Skalowanie danych"
   ]
  },
  {
   "cell_type": "code",
   "execution_count": null,
   "metadata": {},
   "outputs": [],
   "source": [
    "print('max wieku to {}'.format(train['Age'].max())) \n",
    "print('max zmiennej Fare to {}'.format(train['Fare'].max()))"
   ]
  },
  {
   "cell_type": "code",
   "execution_count": null,
   "metadata": {},
   "outputs": [],
   "source": [
    "from sklearn.preprocessing import MinMaxScaler\n",
    "\n",
    "scaler = MinMaxScaler()\n",
    "scaler.fit(train[['Age', 'Fare']])\n",
    "train[['Age', 'Fare']] = scaler.transform(train[['Age', 'Fare']])\n",
    "train.head()"
   ]
  },
  {
   "cell_type": "code",
   "execution_count": null,
   "metadata": {},
   "outputs": [],
   "source": [
    "# test - uwaga na zwracany typ danych\n",
    "sc = MinMaxScaler()\n",
    "sc.fit(train)\n",
    "tr=sc.transform(train)\n",
    "print(type(tr),tr)"
   ]
  },
  {
   "cell_type": "code",
   "execution_count": null,
   "metadata": {},
   "outputs": [],
   "source": [
    "#### Podział na zbiór treningowy i testowy\n",
    "from sklearn.model_selection import train_test_split\n",
    "\n",
    "input_data = train.iloc[:, 1:8]\n",
    "labels = train.iloc[:,0]\n",
    "\n",
    "tr_input, test_input, tr_labels, test_labels = train_test_split(input_data, labels, test_size=0.2, random_state=42)"
   ]
  },
  {
   "cell_type": "markdown",
   "metadata": {},
   "source": [
    "Wygeneruj model klasyczny i kwantowy (korzystając tylko z bramki X i H) oraz oblicz acc. \n",
    "\n",
    "1. model który zawsze zwraca 0 \n",
    "2. model który zawsze zwraca 1\n",
    "3. model który losowo zwraca 0 lub 1 "
   ]
  },
  {
   "cell_type": "markdown",
   "metadata": {},
   "source": []
  }
 ],
 "metadata": {
  "kernelspec": {
   "display_name": "venv",
   "language": "python",
   "name": "python3"
  },
  "language_info": {
   "codemirror_mode": {
    "name": "ipython",
    "version": 3
   },
   "file_extension": ".py",
   "mimetype": "text/x-python",
   "name": "python",
   "nbconvert_exporter": "python",
   "pygments_lexer": "ipython3",
   "version": "3.11.10"
  }
 },
 "nbformat": 4,
 "nbformat_minor": 2
}
